{
 "cells": [
  {
   "cell_type": "markdown",
   "metadata": {
    "slideshow": {
     "slide_type": "slide"
    }
   },
   "source": [
    "## 函数\n",
    "A function is a block of code which only runs when it is called. 函数是一个代码块（段）只有被调用的时候才会执行。\n",
    "\n",
    "You can pass data, known as parameters, into a function. 可以给函数“喂”数据，让函数处理，“喂”给函数的数据称为参数。\n",
    "\n",
    "A function can return data as a result. 函数处理“喂”给它的数据之后，有时会将处理结果输出，即得到函数的“返回值”，可以将其赋值给其他变量，进行后续处理；有时函数处理完数据之后并不返回任何内容，有可能仅仅是显示一些信息，也有可能不显示、不返回任何信息，但处理的结果可能通过其他全局变量体现（**不建议**）。\n",
    "\n",
    "### 函数特点\n",
    "- 函数是可重复使用的，用来实现特定功能的代码段。\n",
    "- 函数能提高应用的模块性和代码的重复利用率。\n",
    "### Python提供了许多内建函数\n",
    "- 比如print(), range(), input()等之前课上和作业中已经使用过的函数。\n",
    "\n",
    "### 根据需要自行创建函数\n",
    "- 自定义函数。"
   ]
  },
  {
   "cell_type": "markdown",
   "metadata": {
    "slideshow": {
     "slide_type": "subslide"
    }
   },
   "source": [
    "## 定义函数\n",
    "以 def 关键词开头，后接函数标识符名称和圆括号()，之后需要有一个冒号，表示下一行开始函数的内容（函数体）。\n",
    "\n",
    "传入参数必须放在圆括号中间，参数之间使用逗号间隔。\n",
    "\n",
    "函数体的第一行语句可以选择性地使用文档字符串（用于存放函数说明）\n",
    "\n",
    "return [表达式]： 结束函数，选择性地返回一个值给调用方。不带表达式的 return 相当于返回 None。\n",
    "\n",
    "定义格式：\n",
    "\n",
    "```Python\n",
    "def functionname( parameters ):\n",
    "   \"函数_文档字符串\"\n",
    "   function_suite\n",
    "   return [expression]\n",
    "```"
   ]
  },
  {
   "cell_type": "code",
   "execution_count": null,
   "metadata": {
    "slideshow": {
     "slide_type": "-"
    }
   },
   "outputs": [],
   "source": [
    "def mysum(a, b):\n",
    "    \"计算两个数的和\"\n",
    "    return a + b"
   ]
  },
  {
   "cell_type": "markdown",
   "metadata": {
    "slideshow": {
     "slide_type": "subslide"
    }
   },
   "source": [
    "## 调用函数\n",
    "1. 给出函数名，给定参数\n",
    "2. 如果函数有返回值，则可将函数赋值给变量；如果没有返回值，直接调用"
   ]
  },
  {
   "cell_type": "code",
   "execution_count": null,
   "metadata": {
    "slideshow": {
     "slide_type": "-"
    }
   },
   "outputs": [],
   "source": [
    "mysum(2,4)"
   ]
  },
  {
   "cell_type": "markdown",
   "metadata": {
    "slideshow": {
     "slide_type": "subslide"
    }
   },
   "source": [
    "## Python内置函数举例\n",
    "<img src='img/func.png'></img>"
   ]
  },
  {
   "cell_type": "markdown",
   "metadata": {
    "slideshow": {
     "slide_type": "subslide"
    }
   },
   "source": [
    "## range()函数返回一个数字序列\n",
    "定义：range([start ,] stop [, step]) ，参数：起始值start和步长step是可选的\n",
    "\n",
    "返回值：从start到stop（不包括）间隔step的数字序列\n",
    "\n",
    "range(10): 0…9\n",
    "\n",
    "range(0,10,2):0,2,4,6,8\n"
   ]
  },
  {
   "cell_type": "code",
   "execution_count": null,
   "metadata": {
    "slideshow": {
     "slide_type": "-"
    }
   },
   "outputs": [],
   "source": [
    "list(range(10))"
   ]
  },
  {
   "cell_type": "code",
   "execution_count": null,
   "metadata": {
    "slideshow": {
     "slide_type": "-"
    }
   },
   "outputs": [],
   "source": [
    "list(range(0,10,2))"
   ]
  },
  {
   "cell_type": "markdown",
   "metadata": {
    "slideshow": {
     "slide_type": "slide"
    }
   },
   "source": [
    "## 循环\n",
    "循环语句允许我们执行一个语句或语句组多次\n",
    "<img src='img/loop.png'></img>"
   ]
  },
  {
   "cell_type": "markdown",
   "metadata": {
    "slideshow": {
     "slide_type": "slide"
    }
   },
   "source": [
    "## For循环\n",
    "<img src=\"img/for-loop.png\"></img>"
   ]
  },
  {
   "cell_type": "code",
   "execution_count": null,
   "metadata": {
    "slideshow": {
     "slide_type": "subslide"
    }
   },
   "outputs": [],
   "source": [
    "for i in range(5):\n",
    "    print(f\"i={i}\")"
   ]
  },
  {
   "cell_type": "code",
   "execution_count": null,
   "metadata": {
    "slideshow": {
     "slide_type": "subslide"
    }
   },
   "outputs": [],
   "source": [
    "for i in range(2, 5):\n",
    "    print(f\"i={i}\")"
   ]
  },
  {
   "cell_type": "code",
   "execution_count": null,
   "metadata": {
    "slideshow": {
     "slide_type": "subslide"
    }
   },
   "outputs": [],
   "source": [
    "for t in range(2, 10, 2):\n",
    "    print(f\"t={t}\")"
   ]
  },
  {
   "cell_type": "code",
   "execution_count": null,
   "metadata": {
    "scrolled": true,
    "slideshow": {
     "slide_type": "subslide"
    }
   },
   "outputs": [],
   "source": [
    "for char in \"陕西师范大学SNNU\":\n",
    "    print(char)"
   ]
  },
  {
   "cell_type": "code",
   "execution_count": null,
   "metadata": {},
   "outputs": [],
   "source": []
  },
  {
   "cell_type": "markdown",
   "metadata": {
    "slideshow": {
     "slide_type": "slide"
    }
   },
   "source": [
    "### While循环"
   ]
  },
  {
   "cell_type": "code",
   "execution_count": null,
   "metadata": {
    "scrolled": true,
    "slideshow": {
     "slide_type": "subslide"
    }
   },
   "outputs": [],
   "source": [
    "from random import randint\n",
    "import random as rd\n",
    "target = rd.randint(1, 100)\n",
    "#print(target)\n",
    "a = input(\"Please input an Integer [1, 100]\")\n",
    "a = int(a)\n",
    "while a != target:\n",
    "    if a > target:\n",
    "        print(\"Too Big\")\n",
    "    else:\n",
    "        print(\"Too Small\")\n",
    "    a = int(input(\"Try again:\"))\n",
    "print(\"You are right!\")"
   ]
  },
  {
   "cell_type": "code",
   "execution_count": null,
   "metadata": {
    "slideshow": {
     "slide_type": "subslide"
    }
   },
   "outputs": [],
   "source": [
    "n = 0\n",
    "while True:\n",
    "    print(f\"n is {n}\")\n",
    "    n += 1"
   ]
  },
  {
   "cell_type": "markdown",
   "metadata": {
    "slideshow": {
     "slide_type": "subslide"
    }
   },
   "source": [
    "## 跳出循环\n",
    "### break\n",
    "跳出循环，执行循环体之后的第一条语句\n",
    "### continue\n",
    "跳出当前循环，执行下一个循环\n"
   ]
  },
  {
   "cell_type": "code",
   "execution_count": null,
   "metadata": {
    "slideshow": {
     "slide_type": "subslide"
    }
   },
   "outputs": [],
   "source": [
    "n = 0\n",
    "while True:\n",
    "    print(f\"n is {n}\")\n",
    "    n += 1\n",
    "    if n == 10001:\n",
    "        break"
   ]
  },
  {
   "cell_type": "code",
   "execution_count": null,
   "metadata": {
    "slideshow": {
     "slide_type": "subslide"
    }
   },
   "outputs": [],
   "source": [
    "n = 0\n",
    "while True:\n",
    "    n += 1\n",
    "    if n < 100:\n",
    "        continue\n",
    "    if n > 500 and n <800:\n",
    "        continue\n",
    "    if n == 1001:\n",
    "        break\n",
    "    print(f\"n is {n}\")\n"
   ]
  },
  {
   "cell_type": "markdown",
   "metadata": {
    "slideshow": {
     "slide_type": "slide"
    }
   },
   "source": [
    "## 问题：如何使用Python判断闰年（leap year）？\n",
    "\n",
    "### 闰年可以根据以下条件判断\n",
    "① 能被4整除同时不能被100整除，即能被4整除的年中去掉那些“世纪年”；\n",
    "\n",
    "② 能被400整除，即第① 步中去掉的“世纪年”有一部分是闰年。\n",
    "### 理解并写出算法\n",
    "判断闰年的条件可以先将所有年份（正整数）划分为两个类别：“世纪年”和非“世纪年”，其中“世纪年”是形如xx00的年，如2000，1900等，其他的年份就是非世纪年。“世纪年”中有些是闰年，有些是平年，同样非“世纪年”中也有闰年和平年，因此下一步分别处理这两类年份中闰年满足的条件即可。“世纪年”中每隔400年出现一个闰年，即“世纪年”中能整除400的是闰年，其他是平年；非“世纪年”中只要能被4整除，就是闰年，其他是平年。\n",
    "\n",
    "从上面的分析可以看出，判断的流程包括两个层次：\n",
    "- 第1层次：判断一年是否是“世纪年”\n",
    "- 第2层次：根据是否是“世纪年”，选择相应的闰年条件来判断\n",
    "<img src='img/leapyear.png'></img>"
   ]
  },
  {
   "cell_type": "code",
   "execution_count": null,
   "metadata": {},
   "outputs": [],
   "source": [
    "year = int(input('Enter a year:'))\n",
    "if year % 400 == 0: # 能被400整除的是闰年（这些是“世纪年”中的闰年）\n",
    "    print(f'{year} is a Leap Year')\n",
    "elif year % 100 == 0: # 不能被400整除，但能被100整除的年不是闰年（这些是“世纪年”中的平年）\n",
    "    print(f'{year} is not a Leap Year')\n",
    "elif year % 4 == 0: # 能被4整除，但既不能被400整除，又不能被100整除（这些是非“世纪年”中的闰年） \n",
    "    print(f'{year} is a Leap Year')\n",
    "else: # 这些是非“世纪年”中的平年\n",
    "    print(f'{year} is not a Leap Year') "
   ]
  },
  {
   "cell_type": "code",
   "execution_count": null,
   "metadata": {
    "slideshow": {
     "slide_type": "subslide"
    }
   },
   "outputs": [],
   "source": [
    "year = int(input('Enter a year:'))\n",
    "if year % 4 == 0:\n",
    "    if year % 100 == 0:\n",
    "        if year % 400 == 0:\n",
    "            print(f'{year} is a Leap Year')\n",
    "        else:\n",
    "            print(f'{year} is not a Leap Year')\n",
    "    else:\n",
    "        print(f'{year} is a Leap Year')\n",
    "else:\n",
    "    print(f'{year} is not a Leap Year')"
   ]
  },
  {
   "cell_type": "code",
   "execution_count": null,
   "metadata": {
    "slideshow": {
     "slide_type": "subslide"
    }
   },
   "outputs": [],
   "source": [
    "leap_year = False\n",
    "while not leap_year:\n",
    "    year = int(input('Enter a year:'))\n",
    "    if year % 4 == 0:\n",
    "        if year % 100 == 0:\n",
    "            if year % 400 == 0:\n",
    "                print(f'{year} is a Leap Year')\n",
    "                leap_year = True\n",
    "            else:\n",
    "                print(f'{year} is not a Leap Year')\n",
    "        else:\n",
    "            print(f'{year} is a Leap Year')\n",
    "            leap_year = True\n",
    "    else:\n",
    "        print(f'{year} is not a Leap Year')"
   ]
  },
  {
   "cell_type": "markdown",
   "metadata": {
    "slideshow": {
     "slide_type": "slide"
    }
   },
   "source": [
    "## 将判断闰年的代码转换为一个函数\n"
   ]
  },
  {
   "cell_type": "code",
   "execution_count": null,
   "metadata": {
    "slideshow": {
     "slide_type": "-"
    }
   },
   "outputs": [],
   "source": [
    "def is_leap(year):\n",
    "    if year % 4 == 0:\n",
    "        if year % 100 == 0:\n",
    "            if year % 400 == 0:\n",
    "                return True\n",
    "            else:\n",
    "                return False\n",
    "        else:\n",
    "            return True\n",
    "    else:\n",
    "        return False\n",
    "\n",
    "year = int(input('Enter a year:'))\n",
    "while not is_leap(year):\n",
    "    year = int(input('Enter a year:'))\n",
    "print(f\"{year} is a leap year\")\n"
   ]
  },
  {
   "cell_type": "markdown",
   "metadata": {
    "slideshow": {
     "slide_type": "slide"
    }
   },
   "source": [
    "## 作业\n",
    "1. 定义一个函数\n",
    "- 输入：一个自然数\n",
    "- 输出：从1到该自然数的和【包括1和该自然数】\n",
    "2. 给出一个数，调用该函数，查看输出结果\n",
    "\n"
   ]
  },
  {
   "cell_type": "code",
   "execution_count": null,
   "metadata": {
    "slideshow": {
     "slide_type": "subslide"
    }
   },
   "outputs": [],
   "source": [
    "# 定义函数\n",
    "def mysum(N):\n",
    "    #for ...\n",
    "    #while ...\n",
    "    return xxx\n",
    "\n",
    "# 调用函数\n",
    "mysum(10)\n",
    "\n",
    "#输出 55"
   ]
  }
 ],
 "metadata": {
  "celltoolbar": "幻灯片",
  "kernelspec": {
   "display_name": "Python 3 (ipykernel)",
   "language": "python",
   "name": "python3"
  },
  "language_info": {
   "codemirror_mode": {
    "name": "ipython",
    "version": 3
   },
   "file_extension": ".py",
   "mimetype": "text/x-python",
   "name": "python",
   "nbconvert_exporter": "python",
   "pygments_lexer": "ipython3",
   "version": "3.11.10"
  },
  "rise": {
   "scroll": true,
   "theme": "serif",
   "transition": "zoom"
  },
  "varInspector": {
   "cols": {
    "lenName": 16,
    "lenType": 16,
    "lenVar": 40
   },
   "kernels_config": {
    "python": {
     "delete_cmd_postfix": "",
     "delete_cmd_prefix": "del ",
     "library": "var_list.py",
     "varRefreshCmd": "print(var_dic_list())"
    },
    "r": {
     "delete_cmd_postfix": ") ",
     "delete_cmd_prefix": "rm(",
     "library": "var_list.r",
     "varRefreshCmd": "cat(var_dic_list()) "
    }
   },
   "types_to_exclude": [
    "module",
    "function",
    "builtin_function_or_method",
    "instance",
    "_Feature"
   ],
   "window_display": false
  }
 },
 "nbformat": 4,
 "nbformat_minor": 4
}
