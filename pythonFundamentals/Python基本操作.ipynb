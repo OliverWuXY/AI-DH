{
 "cells": [
  {
   "cell_type": "markdown",
   "metadata": {
    "slideshow": {
     "slide_type": "slide"
    }
   },
   "source": [
    "# Python基础\n",
    "\n",
    "1. 缩进\n",
    "2. 注释\n",
    "3. 文档字符串\n",
    "4. 基本输入输出\n",
    "5. 数据类型\n",
    "- 整型\n",
    "- 浮点型\n",
    "- 字符串\n",
    "- 列表\n",
    "- 元组\n",
    "- 集合\n",
    "- 字典\n",
    "6. 赋值操作、赋值+算术操作符\n",
    "7. 算术运算\n",
    "8. 比较运算\n",
    "9. 逻辑运算"
   ]
  },
  {
   "cell_type": "markdown",
   "metadata": {
    "slideshow": {
     "slide_type": "slide"
    }
   },
   "source": [
    "## Python语法\n",
    "\n",
    "### 缩进 Indentation\n",
    "很多编程语言如C，C++等编写的代码中也会有缩进，但是在这些语言中缩进并不是必须的，也就是说没有那些缩进只要语法是符合要求的，不影响这些代码的执行；这些语言中的缩进的功能仅仅是为了将代码格式化，从而让人阅读起来感觉结构比较清晰。而Python中的缩进是一个非常重要且必须遵守的一种代码编写的格式，它用来确定代码块，比如for循环的循环体（范围）等。\n",
    "\n",
    "```Python\n",
    "if a>b:\n",
    "    print(\"do something\")\n",
    "```"
   ]
  },
  {
   "cell_type": "code",
   "execution_count": null,
   "metadata": {},
   "outputs": [],
   "source": []
  },
  {
   "cell_type": "markdown",
   "metadata": {
    "slideshow": {
     "slide_type": "subslide"
    }
   },
   "source": [
    "## Python语法\n",
    "### 注释 Comments\n",
    "编程语言中除了计算机能够执行的语句之外，还有一些用作注释的语句，这些内容虽然不直接在机器运行，但是很重要。它们可以用来在合作开发的时候，让合作者了解自己实现的功能，比如函数的接口，即需要提供什么样的参数，会得到什么样的结果；也可以是开发人员留给自己的备忘录，当自己后续开发的时候知道代码是如何编写的，实现了什么功能，也可以记录一些后续开发可能需要增加那些功能.\n",
    "\n",
    "Python代码中注释在一行代码的起始位置使用井号#标记，即带有井号#的代码行是不执行的。(注释是单行的）\n",
    "\n",
    "```Python\n",
    "# 这是一段注释\n",
    "```"
   ]
  },
  {
   "cell_type": "markdown",
   "metadata": {
    "slideshow": {
     "slide_type": "subslide"
    }
   },
   "source": [
    "## Python语法\n",
    "### 文档字符串 Docstrings\n",
    "文档字符串是注释的一种，可以是单行的，也可以是多行的，内容使用一对三个单引号'''Docstrings'''或三个双引号\"\"\"Docstrings\"\"\"标记。\n",
    "\n",
    "docstring在解析时不会从源树中剥离，并且会在整个程序运行期间保留下来。这允许程序员在运行时检查这些注释，例如作为交互式帮助系统或作为元数据。\n",
    "\n",
    "可以使用__doc__来获得函数中的文档字符串，如果是函数内部的docstring输出的时候使用“函数名.__doc__”来获得；如果不是函数内部的docstring，则直接使用__doc__获得。\n",
    "\n",
    "可以使用Sphinx来从docstrings生成代码的html文档可供在线浏览。\n",
    "\n",
    "```Python\n",
    "\"\"\"This is a \n",
    "multiline docstring.\"\"\"\n",
    "print(\"Hello, World!\")\n",
    "```"
   ]
  },
  {
   "cell_type": "code",
   "execution_count": 3,
   "metadata": {
    "slideshow": {
     "slide_type": "subslide"
    }
   },
   "outputs": [
    {
     "name": "stdout",
     "output_type": "stream",
     "text": [
      "\n",
      "    Add up two integer numbers.\n",
      "    \n",
      "    This function simply wraps the ``+`` operator, and does not\n",
      "    do anything interesting, except for illustrating what\n",
      "    the docstring of a very simple function looks like.\n",
      "    \n",
      "    Parameters\n",
      "    ----------\n",
      "    num1 : int\n",
      "        First number to add.\n",
      "    num2 : int\n",
      "        Second number to add.\n",
      "\n",
      "    Returns\n",
      "    -------\n",
      "    int\n",
      "        The sum of ``num1`` and ``num2``.\n",
      "\n",
      "    See Also\n",
      "    --------\n",
      "    subtract : Subtract one integer from another.\n",
      "\n",
      "    Examples\n",
      "    --------\n",
      "    >>> add(2, 2)\n",
      "    4\n",
      "    \n"
     ]
    }
   ],
   "source": [
    "def add(num1, num2):\n",
    "    \"\"\"\n",
    "    Add up two integer numbers.\n",
    "    \n",
    "    This function simply wraps the ``+`` operator, and does not\n",
    "    do anything interesting, except for illustrating what\n",
    "    the docstring of a very simple function looks like.\n",
    "    \n",
    "    Parameters\n",
    "    ----------\n",
    "    num1 : int\n",
    "        First number to add.\n",
    "    num2 : int\n",
    "        Second number to add.\n",
    "\n",
    "    Returns\n",
    "    -------\n",
    "    int\n",
    "        The sum of ``num1`` and ``num2``.\n",
    "\n",
    "    See Also\n",
    "    --------\n",
    "    subtract : Subtract one integer from another.\n",
    "\n",
    "    Examples\n",
    "    --------\n",
    "    >>> add(2, 2)\n",
    "    4\n",
    "    \"\"\"\n",
    "    return num1 + num2\n",
    "print(add.__doc__)"
   ]
  },
  {
   "cell_type": "code",
   "execution_count": 5,
   "metadata": {},
   "outputs": [
    {
     "name": "stdout",
     "output_type": "stream",
     "text": [
      "Prints the values to a stream, or to sys.stdout by default.\n",
      "\n",
      "  sep\n",
      "    string inserted between values, default a space.\n",
      "  end\n",
      "    string appended after the last value, default a newline.\n",
      "  file\n",
      "    a file-like object (stream); defaults to the current sys.stdout.\n",
      "  flush\n",
      "    whether to forcibly flush the stream.\n"
     ]
    }
   ],
   "source": [
    "print(print.__doc__)"
   ]
  },
  {
   "cell_type": "code",
   "execution_count": 4,
   "metadata": {
    "scrolled": true,
    "slideshow": {
     "slide_type": "subslide"
    }
   },
   "outputs": [
    {
     "name": "stdout",
     "output_type": "stream",
     "text": [
      "\n",
      "测试算术运算\n",
      "\n"
     ]
    }
   ],
   "source": [
    "\"\"\"\n",
    "测试算术运算\n",
    "\"\"\"\n",
    "a = 1\n",
    "b = 1\n",
    "c = a + b\n",
    "\n",
    "print(__doc__)\n"
   ]
  },
  {
   "cell_type": "markdown",
   "metadata": {},
   "source": [
    "# 基本输入输出\n",
    "\n",
    "input 和 print "
   ]
  },
  {
   "cell_type": "code",
   "execution_count": 8,
   "metadata": {},
   "outputs": [
    {
     "name": "stdout",
     "output_type": "stream",
     "text": [
      "Welcome to AI DH Workshop!\n"
     ]
    }
   ],
   "source": [
    "print(\"Welcome to AI-DH Workshop!\")"
   ]
  },
  {
   "cell_type": "code",
   "execution_count": 9,
   "metadata": {},
   "outputs": [
    {
     "name": "stdout",
     "output_type": "stream",
     "text": [
      "Welcome Geoffrey E. Hinton to AI-DH workshop!\n"
     ]
    }
   ],
   "source": [
    "print(\"Welcome {} to AI-DH workshop!\".format(\"Geoffrey E. Hinton\"))"
   ]
  },
  {
   "cell_type": "code",
   "execution_count": 11,
   "metadata": {},
   "outputs": [
    {
     "name": "stdin",
     "output_type": "stream",
     "text": [
      "please input a value: rrr\n"
     ]
    },
    {
     "name": "stdout",
     "output_type": "stream",
     "text": [
      "rrr\n"
     ]
    }
   ],
   "source": [
    "a = input(\"please input a value:\")\n",
    "print(a)"
   ]
  },
  {
   "cell_type": "code",
   "execution_count": 15,
   "metadata": {},
   "outputs": [
    {
     "name": "stdin",
     "output_type": "stream",
     "text": [
      "please input a integer value: 90\n"
     ]
    },
    {
     "name": "stdout",
     "output_type": "stream",
     "text": [
      "90\n"
     ]
    }
   ],
   "source": [
    "a = int(input(\"please input a integer value:\"))\n",
    "print(a)"
   ]
  },
  {
   "cell_type": "markdown",
   "metadata": {
    "slideshow": {
     "slide_type": "slide"
    }
   },
   "source": [
    "# 算术运算\n",
    "\n",
    "用于进行算术运算的操作符\n"
   ]
  },
  {
   "cell_type": "code",
   "execution_count": 6,
   "metadata": {
    "slideshow": {
     "slide_type": "subslide"
    }
   },
   "outputs": [
    {
     "name": "stdout",
     "output_type": "stream",
     "text": [
      "全对！\n"
     ]
    }
   ],
   "source": [
    "def test_arithmetic_operators():\n",
    "    # 加法\n",
    "    assert 5 + 4 == 9\n",
    "    # 减法\n",
    "    assert 5 - 4 == 1\n",
    "    # 乘法\n",
    "    assert 5 * 4 == 20\n",
    "    assert isinstance(5 * 3, int)\n",
    "    # 除法\n",
    "    # 注意：结果是浮点数float\n",
    "    assert 5 / 3 == 1.6666666666666667\n",
    "    assert 8 / 4 == 2\n",
    "    assert isinstance(5 / 3, float)\n",
    "    assert isinstance(8 / 4, float)\n",
    "    # 取余\n",
    "    assert 5 % 3 == 2\n",
    "    # 指数运算\n",
    "    assert 5 ** 3 == 125\n",
    "    assert 2 ** 3 == 8\n",
    "    assert 2 ** 4 == 16\n",
    "    assert 2 ** 5 == 32\n",
    "    assert isinstance(5 ** 3, int)\n",
    "    # 取整（向下取整）\n",
    "    assert 5 // 3 == 1\n",
    "    assert 6 // 3 == 2\n",
    "    assert 7 // 3 == 2\n",
    "    assert 9 // 3 == 3\n",
    "    assert isinstance(5 // 3, int)\n",
    "    print(\"全对！\")\n",
    "    \n",
    "test_arithmetic_operators()"
   ]
  },
  {
   "cell_type": "markdown",
   "metadata": {
    "slideshow": {
     "slide_type": "slide"
    }
   },
   "source": [
    "# 赋值\n",
    "为变量赋值，即给变量一个确定的值（数、字符串、对象等）"
   ]
  },
  {
   "cell_type": "code",
   "execution_count": 7,
   "metadata": {
    "slideshow": {
     "slide_type": "subslide"
    }
   },
   "outputs": [],
   "source": [
    "# 基本赋值操作：=\n",
    "\n",
    "def test_assignment_operator():\n",
    "\n",
    "    # Assignment: =\n",
    "    number = 5\n",
    "    assert number == 5\n",
    "\n",
    "    # 多变量赋值\n",
    "    first_variable, second_variable = 0, 1\n",
    "    assert first_variable == 0\n",
    "    assert second_variable == 1\n",
    "\n",
    "    # 使用多变量赋值方法来交换两个变量的值\n",
    "    first_variable, second_variable = second_variable, first_variable\n",
    "    assert first_variable == 1\n",
    "    assert second_variable == 0\n",
    "test_assignment_operator()"
   ]
  },
  {
   "cell_type": "markdown",
   "metadata": {
    "slideshow": {
     "slide_type": "subslide"
    }
   },
   "source": [
    "\n",
    "## 复合赋值操作符\n",
    "将算术运算、位运算与赋值符叠加使用"
   ]
  },
  {
   "cell_type": "code",
   "execution_count": 10,
   "metadata": {
    "slideshow": {
     "slide_type": "subslide"
    }
   },
   "outputs": [],
   "source": [
    "def test_augmented_assignment_operators1():\n",
    "    # +=\n",
    "    number = 5\n",
    "    number += 3\n",
    "    assert number == 8\n",
    "    # -=\n",
    "    number = 5\n",
    "    number -= 3\n",
    "    assert number == 2\n",
    "    # *=\n",
    "    number = 5\n",
    "    number *= 3\n",
    "    assert number == 15\n",
    "    # /=\n",
    "    number = 8\n",
    "    number /= 4\n",
    "    assert number == 2\n",
    "    # %=\n",
    "    number = 8\n",
    "    number %= 3\n",
    "    assert number == 2\n",
    "    # %=\n",
    "    number = 5\n",
    "    number %= 3\n",
    "    assert number == 2\n",
    "    # //=\n",
    "    number = 5\n",
    "    number //= 3\n",
    "    assert number == 1\n",
    "    # **=\n",
    "    number = 5\n",
    "    number **= 3\n",
    "    assert number == 125\n",
    "\n",
    "test_augmented_assignment_operators1()"
   ]
  },
  {
   "cell_type": "code",
   "execution_count": null,
   "metadata": {
    "slideshow": {
     "slide_type": "subslide"
    }
   },
   "outputs": [],
   "source": [
    "def test_augmented_assignment_operators2():\n",
    "    # &=\n",
    "    number = 5  # 0b0101\n",
    "    number &= 3  # 0b0011\n",
    "    assert number == 1  # 0b0001\n",
    "    # |=\n",
    "    number = 5  # 0b0101\n",
    "    number |= 3  # 0b0011\n",
    "    assert number == 7  # 0b0111\n",
    "    # ^=\n",
    "    number = 5  # 0b0101\n",
    "    number ^= 3  # 0b0011\n",
    "    assert number == 6  # 0b0110\n",
    "    # >>=\n",
    "    number = 5\n",
    "    number >>= 3\n",
    "    assert number == 0  # (((5 // 2) // 2) // 2)\n",
    "\n",
    "    # <<=\n",
    "    number = 5\n",
    "    number <<= 3\n",
    "    assert number == 40  # 5 * 2 * 2 * 2\n",
    "\n",
    "test_augmented_assignment_operators2()"
   ]
  },
  {
   "cell_type": "markdown",
   "metadata": {
    "slideshow": {
     "slide_type": "slide"
    }
   },
   "source": [
    "## 比较运算\n",
    "比较两个值"
   ]
  },
  {
   "cell_type": "code",
   "execution_count": 13,
   "metadata": {
    "slideshow": {
     "slide_type": "subslide"
    }
   },
   "outputs": [],
   "source": [
    "def test_comparison_operators():\n",
    "    # 相等\n",
    "    number = 5\n",
    "    assert number == 5\n",
    "    # 不相等\n",
    "    number = 5\n",
    "    assert number != 3 \n",
    "    # 大于\n",
    "    number = 5\n",
    "    assert number > 3\n",
    "    # 小于\n",
    "    number = 5\n",
    "    assert number < 8\n",
    "    # 大于等于\n",
    "    number = 5\n",
    "    assert number >= 5\n",
    "    assert number >= 4\n",
    "    # 小于等于\n",
    "    number = 5\n",
    "    assert number <= 5\n",
    "    assert number <= 6\n",
    "test_comparison_operators()"
   ]
  },
  {
   "cell_type": "markdown",
   "metadata": {
    "slideshow": {
     "slide_type": "slide"
    }
   },
   "source": [
    "## 逻辑运算\n",
    "将条件表达式组合起来\n"
   ]
  },
  {
   "cell_type": "code",
   "execution_count": 15,
   "metadata": {
    "slideshow": {
     "slide_type": "subslide"
    }
   },
   "outputs": [],
   "source": [
    "def test_logical_operators():\n",
    "    first_number = 5\n",
    "    second_number = 10\n",
    "\n",
    "    # 与\n",
    "    # 所有条件都为真，返回值为真；否则返回假\n",
    "    assert first_number > 0 and second_number < 20\n",
    "\n",
    "    # 或\n",
    "    # 任意一个条件为真，返回值为真；所有条件都为假，返回假\n",
    "    assert first_number > 5 or second_number < 20\n",
    "\n",
    "    # 非\n",
    "    # 真变假，假变真\n",
    "    assert not first_number == second_number\n",
    "    assert first_number != second_number\n",
    "\n",
    "test_logical_operators()"
   ]
  },
  {
   "cell_type": "markdown",
   "metadata": {
    "slideshow": {
     "slide_type": "slide"
    }
   },
   "source": [
    "## 成员判断（包含判断）Membership\n",
    "判断一个对象是不是包含在一个序列数据中（集合、列表等）"
   ]
  },
  {
   "cell_type": "code",
   "execution_count": 16,
   "metadata": {
    "slideshow": {
     "slide_type": "subslide"
    }
   },
   "outputs": [],
   "source": [
    "def test_membership_operators():\n",
    "\n",
    "    fruit_list = [\"apple\", \"banana\"]\n",
    "\n",
    "    # in\n",
    "    # 如果对象包含在集合中返回真，否则返回假\n",
    "    assert \"banana\" in fruit_list\n",
    "\n",
    "    # not in\n",
    "    # 如果对象不包含在集合中返回真，否则返回假\n",
    "    assert \"pineapple\" not in fruit_list"
   ]
  },
  {
   "cell_type": "code",
   "execution_count": 12,
   "metadata": {
    "slideshow": {
     "slide_type": "subslide"
    }
   },
   "outputs": [
    {
     "name": "stdout",
     "output_type": "stream",
     "text": [
      "请问您需要什么水果？adfasdfsda\n",
      "对不起，我们没有{fruit}!\n"
     ]
    }
   ],
   "source": [
    "fruit_list = [\"苹果\", \"香蕉\"]\n",
    "\n",
    "fruit = input(\"请问您需要什么水果？\")\n",
    "if fruit in fruit_list:\n",
    "    print(f\"我们有{fruit}！\")\n",
    "else:\n",
    "    print(f\"对不起，我们没有{fruit}!\")"
   ]
  },
  {
   "cell_type": "markdown",
   "metadata": {
    "slideshow": {
     "slide_type": "slide"
    }
   },
   "source": [
    "## 数据类型"
   ]
  },
  {
   "cell_type": "markdown",
   "metadata": {
    "slideshow": {
     "slide_type": "subslide"
    }
   },
   "source": [
    "## 数据类型\n",
    "### 数值\n",
    "1. 整数 Int（Integer）\n",
    "2. 布尔 Boolean\n",
    "3. 浮点数 Float （Floating Point Number）\n",
    "4. 复数 Complex\n"
   ]
  },
  {
   "cell_type": "code",
   "execution_count": 21,
   "metadata": {
    "slideshow": {
     "slide_type": "subslide"
    }
   },
   "outputs": [],
   "source": [
    "def test_integer_numbers():\n",
    "    \"\"\"Integer type\n",
    "    Int, or integer, is a whole number, positive or negative,\n",
    "    without decimals, of unlimited length.\n",
    "    \"\"\"\n",
    "\n",
    "    positive_integer = 1\n",
    "    negative_integer = -3255522\n",
    "    big_integer = 35656222554887711\n",
    "\n",
    "    assert isinstance(positive_integer, int)\n",
    "    assert isinstance(negative_integer, int)\n",
    "    assert isinstance(big_integer, int)"
   ]
  },
  {
   "cell_type": "code",
   "execution_count": 24,
   "metadata": {
    "slideshow": {
     "slide_type": "subslide"
    }
   },
   "outputs": [],
   "source": [
    "def test_booleans():\n",
    "    \"\"\"Boolean\n",
    "    Booleans represent the truth values False and True. The two objects representing the values\n",
    "    False and True are the only Boolean objects. The Boolean type is a subtype of the integer type,\n",
    "    and Boolean values behave like the values 0 and 1, respectively, in almost all contexts, the\n",
    "    exception being that when converted to a string, the strings \"False\" or \"True\" are returned,\n",
    "    respectively.\n",
    "    \"\"\"\n",
    "\n",
    "    true_boolean = True\n",
    "    false_boolean = False\n",
    "\n",
    "    assert true_boolean\n",
    "    assert not false_boolean\n",
    "\n",
    "    assert isinstance(true_boolean, bool)\n",
    "    assert isinstance(false_boolean, bool)\n",
    "\n",
    "    # Let's try to cast boolean to string.\n",
    "    assert str(true_boolean) == \"True\"\n",
    "    assert str(false_boolean) == \"False\""
   ]
  },
  {
   "cell_type": "code",
   "execution_count": 22,
   "metadata": {
    "slideshow": {
     "slide_type": "subslide"
    }
   },
   "outputs": [],
   "source": [
    "def test_float_numbers():\n",
    "    \"\"\"Float type\n",
    "    Float, or \"floating point number\" is a number, positive or negative,\n",
    "    containing one or more decimals.\n",
    "    \"\"\"\n",
    "\n",
    "    float_number = 7.0\n",
    "    # Another way of declaring float is using float() function.\n",
    "    float_number_via_function = float(7)\n",
    "    float_negative = -35.59\n",
    "\n",
    "    assert float_number == float_number_via_function\n",
    "    assert isinstance(float_number, float)\n",
    "    assert isinstance(float_number_via_function, float)\n",
    "    assert isinstance(float_negative, float)\n",
    "\n",
    "    # Float can also be scientific numbers with an \"e\" to indicate\n",
    "    # the power of 10.\n",
    "    float_with_small_e = 35e3\n",
    "    float_with_big_e = 12E4\n",
    "\n",
    "    assert float_with_small_e == 35000\n",
    "    assert float_with_big_e == 120000\n",
    "    assert isinstance(12E4, float)\n",
    "    assert isinstance(-87.7e100, float)"
   ]
  },
  {
   "cell_type": "code",
   "execution_count": 23,
   "metadata": {
    "slideshow": {
     "slide_type": "subslide"
    }
   },
   "outputs": [],
   "source": [
    "def test_complex_numbers():\n",
    "    \"\"\"Complex Type\"\"\"\n",
    "\n",
    "    complex_number_1 = 5 + 6j\n",
    "    complex_number_2 = 3 - 2j\n",
    "\n",
    "    assert isinstance(complex_number_1, complex)\n",
    "    assert isinstance(complex_number_2, complex)\n",
    "    assert complex_number_1 * complex_number_2 == 27 + 8j\n",
    "    "
   ]
  },
  {
   "cell_type": "markdown",
   "metadata": {
    "slideshow": {
     "slide_type": "subslide"
    }
   },
   "source": [
    "## 数据类型\n",
    "\n",
    "### 字符串 Strings\n",
    "可以使用双引号或单引号来创建字符串"
   ]
  },
  {
   "cell_type": "code",
   "execution_count": 25,
   "metadata": {
    "slideshow": {
     "slide_type": "notes"
    }
   },
   "outputs": [],
   "source": [
    "\"\"\"Strings.\n",
    "@see: https://docs.python.org/3/tutorial/introduction.html\n",
    "@see: https://www.w3schools.com/python/python_strings.asp\n",
    "@see: https://www.w3schools.com/python/python_ref_string.asp\n",
    "Besides numbers, Python can also manipulate strings, which can be\n",
    "expressed in several ways. They can be enclosed in single quotes ('...')\n",
    "or double quotes (\"...\") with the same result.\n",
    "\"\"\"\n",
    "\n",
    "import pytest\n",
    "\n",
    "\n",
    "def test_string_type():\n",
    "    \"\"\"String type\"\"\"\n",
    "\n",
    "    # String with double quotes.\n",
    "    name_1 = \"John\"\n",
    "    # String with single quotes.\n",
    "    name_2 = 'John'\n",
    "    # Strings created with different kind of quotes are treated the same.\n",
    "    assert name_1 == name_2\n",
    "    assert isinstance(name_1, str)\n",
    "    assert isinstance(name_2, str)\n",
    "\n",
    "    # \\ can be used to escape quotes.\n",
    "    # use \\' to escape the single quote or use double quotes instead.\n",
    "    single_quote_string = 'doesn\\'t'\n",
    "    double_quote_string = \"doesn't\"\n",
    "\n",
    "    assert single_quote_string == double_quote_string\n",
    "\n",
    "    # \\n means newline.\n",
    "    multiline_string = 'First line.\\nSecond line.'\n",
    "    # Without print(), \\n is included in the output.\n",
    "    # But with print(), \\n produces a new line.\n",
    "    assert multiline_string == 'First line.\\nSecond line.'\n",
    "\n",
    "    # Strings can be indexed, with the first character having index 0.\n",
    "    # There is no separate character type; a character is simply a string\n",
    "    # of size one. Note that since -0 is the same as 0, negative indices\n",
    "    # start from -1.\n",
    "    word = 'Python'\n",
    "    assert word[0] == 'P'  # First character.\n",
    "    assert word[5] == 'n'  # Fifth character.\n",
    "    assert word[-1] == 'n'  # Last character.\n",
    "    assert word[-2] == 'o'  # Second-last character.\n",
    "    assert word[-6] == 'P'  # Sixth from the end or zeroth from the beginning.\n",
    "\n",
    "    assert isinstance(word[0], str)\n",
    "\n",
    "    # In addition to indexing, slicing is also supported. While indexing is\n",
    "    # used to obtain individual characters, slicing allows you to obtain\n",
    "    # substring:\n",
    "    assert word[0:2] == 'Py'  # Characters from position 0 (included) to 2 (excluded).\n",
    "    assert word[2:5] == 'tho'  # Characters from position 2 (included) to 5 (excluded).\n",
    "\n",
    "    # Note how the start is always included, and the end always excluded.\n",
    "    # This makes sure that s[:i] + s[i:] is always equal to s:\n",
    "    assert word[:2] + word[2:] == 'Python'\n",
    "    assert word[:4] + word[4:] == 'Python'\n",
    "\n",
    "    # Slice indices have useful defaults; an omitted first index defaults to\n",
    "    # zero, an omitted second index defaults to the size of the string being\n",
    "    # sliced.\n",
    "    assert word[:2] == 'Py'  # Character from the beginning to position 2 (excluded).\n",
    "    assert word[4:] == 'on'  # Characters from position 4 (included) to the end.\n",
    "    assert word[-2:] == 'on'  # Characters from the second-last (included) to the end.\n",
    "\n",
    "    # One way to remember how slices work is to think of the indices as\n",
    "    # pointing between characters, with the left edge of the first character\n",
    "    # numbered 0. Then the right edge of the last character of a string of n\n",
    "    # characters has index n, for example:\n",
    "    #\n",
    "    # +---+---+---+---+---+---+\n",
    "    #  | P | y | t | h | o | n |\n",
    "    #  +---+---+---+---+---+---+\n",
    "    #  0   1   2   3   4   5   6\n",
    "    # -6  -5  -4  -3  -2  -1\n",
    "\n",
    "    # Attempting to use an index that is too large will result in an error.\n",
    "    with pytest.raises(Exception):\n",
    "        not_existing_character = word[42]\n",
    "        assert not not_existing_character\n",
    "\n",
    "    # However, out of range slice indexes are handled gracefully when used\n",
    "    # for slicing:\n",
    "    assert word[4:42] == 'on'\n",
    "    assert word[42:] == ''\n",
    "\n",
    "    # Python strings cannot be changed — they are immutable. Therefore,\n",
    "    # assigning to an indexed position in the string\n",
    "    # results in an error:\n",
    "    with pytest.raises(Exception):\n",
    "        # pylint: disable=unsupported-assignment-operation\n",
    "        word[0] = 'J'\n",
    "\n",
    "    # If you need a different string, you should create a new one:\n",
    "    assert 'J' + word[1:] == 'Jython'\n",
    "    assert word[:2] + 'py' == 'Pypy'\n",
    "\n",
    "    # The built-in function len() returns the length of a string:\n",
    "    characters = 'supercalifragilisticexpialidocious'\n",
    "    assert len(characters) == 34\n",
    "\n",
    "    # String literals can span multiple lines. One way is using triple-quotes: \"\"\"...\"\"\"\n",
    "    # or '''...'''. End of lines are automatically included in the string, but it’s possible\n",
    "    # to prevent this by adding a \\ at the end of the line. The following example:\n",
    "    multi_line_string = '''\\\n",
    "        First line\n",
    "        Second line\n",
    "    '''\n",
    "\n",
    "    assert multi_line_string == '''\\\n",
    "        First line\n",
    "        Second line\n",
    "    '''\n",
    "\n",
    "\n",
    "def test_string_operators():\n",
    "    \"\"\"Basic operations\n",
    "    Strings can be concatenated (glued together) with the + operator,\n",
    "    and repeated with *: 3 times 'un', followed by 'ium'\n",
    "    \"\"\"\n",
    "\n",
    "    assert 3 * 'un' + 'ium' == 'unununium'\n",
    "\n",
    "    # 'Py' 'thon'\n",
    "    python = 'Py' 'thon'\n",
    "    assert python == 'Python'\n",
    "\n",
    "    # This feature is particularly useful when you want to break long strings:\n",
    "    text = (\n",
    "        'Put several strings within parentheses '\n",
    "        'to have them joined together.'\n",
    "    )\n",
    "    assert text == 'Put several strings within parentheses to have them joined together.'\n",
    "\n",
    "    # If you want to concatenate variables or a variable and a literal, use +:\n",
    "    prefix = 'Py'\n",
    "    assert prefix + 'thon' == 'Python'\n",
    "\n",
    "\n",
    "def test_string_methods():\n",
    "    \"\"\"String methods\"\"\"\n",
    "\n",
    "    hello_world_string = \"Hello, World!\"\n",
    "\n",
    "    # The strip() method removes any whitespace from the beginning or the end.\n",
    "    string_with_whitespaces = \" Hello, World! \"\n",
    "    assert string_with_whitespaces.strip() == \"Hello, World!\"\n",
    "\n",
    "    # The len() method returns the length of a string.\n",
    "    assert len(hello_world_string) == 13\n",
    "\n",
    "    # The lower() method returns the string in lower case.\n",
    "    assert hello_world_string.lower() == 'hello, world!'\n",
    "\n",
    "    # The upper() method returns the string in upper case.\n",
    "    assert hello_world_string.upper() == 'HELLO, WORLD!'\n",
    "\n",
    "    # The replace() method replaces a string with another string.\n",
    "    assert hello_world_string.replace('H', 'J') == 'Jello, World!'\n",
    "\n",
    "    # The split() method splits the string into substrings if it finds instances of the separator.\n",
    "    assert hello_world_string.split(',') == ['Hello', ' World!']\n",
    "\n",
    "    # Converts the first character to upper case\n",
    "    assert 'low letter at the beginning'.capitalize() == 'Low letter at the beginning'\n",
    "\n",
    "    # Returns the number of times a specified value occurs in a string.\n",
    "    assert 'low letter at the beginning'.count('t') == 4\n",
    "\n",
    "    # Searches the string for a specified value and returns the position of where it was found.\n",
    "    assert 'Hello, welcome to my world'.find('welcome') == 7\n",
    "\n",
    "    # Converts the first character of each word to upper case\n",
    "    assert 'Welcome to my world'.title() == 'Welcome To My World'\n",
    "\n",
    "    # Returns a string where a specified value is replaced with a specified value.\n",
    "    assert 'I like bananas'.replace('bananas', 'apples') == 'I like apples'\n",
    "\n",
    "    # Joins the elements of an iterable to the end of the string.\n",
    "    my_tuple = ('John', 'Peter', 'Vicky')\n",
    "    assert ', '.join(my_tuple) == 'John, Peter, Vicky'\n",
    "\n",
    "    # Returns True if all characters in the string are upper case.\n",
    "    assert 'ABC'.isupper()\n",
    "    assert not 'AbC'.isupper()\n",
    "\n",
    "    # Check if all the characters in the text are letters.\n",
    "    assert 'CompanyX'.isalpha()\n",
    "    assert not 'Company 23'.isalpha()\n",
    "\n",
    "    # Returns True if all characters in the string are decimals.\n",
    "    assert '1234'.isdecimal()\n",
    "    assert not 'a21453'.isdecimal()\n",
    "\n",
    "\n",
    "def test_string_formatting():\n",
    "    \"\"\"String formatting.\n",
    "    Often you’ll want more control over the formatting of your output than simply printing\n",
    "    space-separated values. There are several ways to format output\n",
    "    \"\"\"\n",
    "\n",
    "    # To use formatted string literals, begin a string with f or F before the opening quotation\n",
    "    # mark or triple quotation mark. Inside this string, you can write a Python expression\n",
    "    # between { and } characters that can refer to variables or literal values.\n",
    "    year = 2018\n",
    "    event = 'conference'\n",
    "\n",
    "    assert f'Results of the {year} {event}' == 'Results of the 2018 conference'\n",
    "\n",
    "    # The str.format() method of strings requires more manual effort. You’ll still use { and } to\n",
    "    # mark where a variable will be substituted and can provide detailed formatting directives,\n",
    "    # but you’ll also need to provide the information to be formatted.\n",
    "    yes_votes = 42_572_654  # equivalent of 42572654\n",
    "    no_votes = 43_132_495   # equivalent of 43132495\n",
    "    percentage = yes_votes / (yes_votes + no_votes)\n",
    "\n",
    "    assert '{:-9} YES votes  {:2.2%}'.format(yes_votes, percentage) == ' 42572654 YES votes  49.67%'\n",
    "\n",
    "    # When you don’t need fancy output but just want a quick display of some variables for debugging\n",
    "    # purposes, you can convert any value to a string with the repr() or str() functions. The str()\n",
    "    # function is meant to return representations of values which are fairly human-readable, while\n",
    "    # repr() is meant to generate representations which can be read by the interpreter (or will\n",
    "    # force a SyntaxError if there is no equivalent syntax). For objects which don’t have a\n",
    "    # particular representation for human consumption, str() will return the same value as repr().\n",
    "    # Many values, such as numbers or structures like lists and dictionaries, have the same\n",
    "    # representation using either function. Strings, in particular, have two distinct\n",
    "    # representations.\n",
    "\n",
    "    greeting = 'Hello, world.'\n",
    "    first_num = 10 * 3.25\n",
    "    second_num = 200 * 200\n",
    "\n",
    "    assert str(greeting) == 'Hello, world.'\n",
    "    assert repr(greeting) == \"'Hello, world.'\"\n",
    "    assert str(1/7) == '0.14285714285714285'\n",
    "\n",
    "    # The argument to repr() may be any Python object:\n",
    "    assert repr((first_num, second_num, ('spam', 'eggs'))) == \"(32.5, 40000, ('spam', 'eggs'))\"\n",
    "\n",
    "    # Formatted String Literals\n",
    "\n",
    "    # Formatted string literals (also called f-strings for short) let you include the value of\n",
    "    # Python expressions inside a string by prefixing the string with f or F and writing\n",
    "    # expressions as {expression}.\n",
    "\n",
    "    # An optional format specifier can follow the expression. This allows greater control over how\n",
    "    # the value is formatted. The following example rounds pi to three places after the decimal.\n",
    "    pi_value = 3.14159\n",
    "    assert f'The value of pi is {pi_value:.3f}.' == 'The value of pi is 3.142.'\n",
    "\n",
    "    # Passing an integer after the ':' will cause that field to be a minimum number of characters\n",
    "    # wide. This is useful for making columns line up:\n",
    "    table_data = {'Sjoerd': 4127, 'Jack': 4098, 'Dcab': 7678}\n",
    "    table_string = ''\n",
    "    for name, phone in table_data.items():\n",
    "        table_string += f'{name:7}==>{phone:7d}'\n",
    "\n",
    "    assert table_string == ('Sjoerd ==>   4127'\n",
    "                            'Jack   ==>   4098'\n",
    "                            'Dcab   ==>   7678')\n",
    "\n",
    "    # The String format() Method\n",
    "\n",
    "    # Basic usage of the str.format() method looks like this:\n",
    "    assert 'We are {} who say \"{}!\"'.format('knights', 'Ni') == 'We are knights who say \"Ni!\"'\n",
    "\n",
    "    # The brackets and characters within them (called format fields) are replaced with the objects\n",
    "    # passed into the str.format() method. A number in the brackets can be used to refer to the\n",
    "    # position of the object passed into the str.format() method\n",
    "    assert '{0} and {1}'.format('spam', 'eggs') == 'spam and eggs'\n",
    "    assert '{1} and {0}'.format('spam', 'eggs') == 'eggs and spam'\n",
    "\n",
    "    # If keyword arguments are used in the str.format() method, their values are referred to by\n",
    "    # using the name of the argument.\n",
    "    formatted_string = 'This {food} is {adjective}.'.format(\n",
    "        food='spam',\n",
    "        adjective='absolutely horrible'\n",
    "    )\n",
    "\n",
    "    assert formatted_string == 'This spam is absolutely horrible.'\n",
    "\n",
    "    # Positional and keyword arguments can be arbitrarily combined\n",
    "    formatted_string = 'The story of {0}, {1}, and {other}.'.format(\n",
    "        'Bill',\n",
    "        'Manfred',\n",
    "        other='Georg'\n",
    "    )\n",
    "\n",
    "    assert formatted_string == 'The story of Bill, Manfred, and Georg.'\n",
    "\n",
    "    # If you have a really long format string that you don’t want to split up, it would be nice if\n",
    "    # you could reference the variables to be formatted by name instead of by position. This can be\n",
    "    # done by simply passing the dict and using square brackets '[]' to access the keys\n",
    "\n",
    "    table = {'Sjoerd': 4127, 'Jack': 4098, 'Dcab': 8637678}\n",
    "    formatted_string = 'Jack: {0[Jack]:d}; Sjoerd: {0[Sjoerd]:d}; Dcab: {0[Dcab]:d}'.format(table)\n",
    "\n",
    "    assert formatted_string == 'Jack: 4098; Sjoerd: 4127; Dcab: 8637678'\n",
    "\n",
    "    # This could also be done by passing the table as keyword arguments with the ‘**’ notation.\n",
    "    formatted_string = 'Jack: {Jack:d}; Sjoerd: {Sjoerd:d}; Dcab: {Dcab:d}'.format(**table)\n",
    "\n",
    "    assert formatted_string == 'Jack: 4098; Sjoerd: 4127; Dcab: 8637678'\n"
   ]
  },
  {
   "cell_type": "markdown",
   "metadata": {
    "slideshow": {
     "slide_type": "subslide"
    }
   },
   "source": [
    "## 数据类型\n",
    "#### 列表 List\n",
    "列表中每个元素都有一个索引号与之关联，第一个元素的索引是0，第二个元素的索引是1，以此类推。\n",
    "\n",
    "使用方括号将元素包围，而且元素之间使用逗号进行分隔；\n",
    "\n",
    "列表中的数据项不需要一定都是相同的类型。\n",
    "\n",
    "使用列表名和索引的方法来访问其中的元素: 例如一个列表为list_1 = ['a', 'b', 'c'], list_1[0]为'a', list_1[2]为'c'。"
   ]
  },
  {
   "cell_type": "code",
   "execution_count": 20,
   "metadata": {
    "slideshow": {
     "slide_type": "-"
    }
   },
   "outputs": [],
   "source": [
    "import pytest\n",
    "\n",
    "\n",
    "def test_list_type():\n",
    "    \"\"\"List type.\"\"\"\n",
    "\n",
    "    # Lists are very similar to arrays. They can contain any type of variable, and they can contain\n",
    "    # as many variables as you wish. Lists can also be iterated over in a very simple manner.\n",
    "    # Here is an example of how to build a list.\n",
    "    squares = [1, 4, 9, 16, 25]\n",
    "\n",
    "    assert isinstance(squares, list)\n",
    "\n",
    "    # Like strings (and all other built-in sequence type), lists can be\n",
    "    # indexed and sliced:\n",
    "    assert squares[0] == 1  # indexing returns the item\n",
    "    assert squares[-1] == 25\n",
    "    assert squares[-3:] == [9, 16, 25]  # slicing returns a new list\n",
    "\n",
    "    # All slice operations return a new list containing the requested elements.\n",
    "    # This means that the following slice returns a new (shallow) copy of\n",
    "    # the list:\n",
    "    assert squares[:] == [1, 4, 9, 16, 25]\n",
    "\n",
    "    # Lists also support operations like concatenation:\n",
    "    assert squares + [36, 49, 64, 81, 100] == [1, 4, 9, 16, 25, 36, 49, 64, 81, 100]\n",
    "\n",
    "    # Unlike strings, which are immutable, lists are a mutable type, i.e. it\n",
    "    # is possible to change their content:\n",
    "    cubes = [1, 8, 27, 65, 125]  # something's wrong here, the cube of 4 is 64!\n",
    "    cubes[3] = 64  # replace the wrong value\n",
    "    assert cubes == [1, 8, 27, 64, 125]\n",
    "\n",
    "    # You can also add new items at the end of the list, by using\n",
    "    # the append() method\n",
    "    cubes.append(216)  # add the cube of 6\n",
    "    cubes.append(7 ** 3)  # and the cube of 7\n",
    "    assert cubes == [1, 8, 27, 64, 125, 216, 343]\n",
    "\n",
    "    # Assignment to slices is also possible, and this can even change the size\n",
    "    # of the list or clear it entirely:\n",
    "    letters = ['a', 'b', 'c', 'd', 'e', 'f', 'g']\n",
    "    letters[2:5] = ['C', 'D', 'E']  # replace some values\n",
    "    assert letters == ['a', 'b', 'C', 'D', 'E', 'f', 'g']\n",
    "    letters[2:5] = []  # now remove them\n",
    "    assert letters == ['a', 'b', 'f', 'g']\n",
    "    # clear the list by replacing all the elements with an empty list\n",
    "    letters[:] = []\n",
    "    assert letters == []\n",
    "\n",
    "    # The built-in function len() also applies to lists\n",
    "    letters = ['a', 'b', 'c', 'd']\n",
    "    assert len(letters) == 4\n",
    "\n",
    "    # It is possible to nest lists (create lists containing other lists),\n",
    "    # for example:\n",
    "    list_of_chars = ['a', 'b', 'c']\n",
    "    list_of_numbers = [1, 2, 3]\n",
    "    mixed_list = [list_of_chars, list_of_numbers]\n",
    "    assert mixed_list == [['a', 'b', 'c'], [1, 2, 3]]\n",
    "    assert mixed_list[0] == ['a', 'b', 'c']\n",
    "    assert mixed_list[0][1] == 'b'\n",
    "\n",
    "\n",
    "def test_list_methods():\n",
    "    \"\"\"Test list methods.\"\"\"\n",
    "\n",
    "    fruits = ['orange', 'apple', 'pear', 'banana', 'kiwi', 'apple', 'banana']\n",
    "\n",
    "    # list.append(x)\n",
    "    # Add an item to the end of the list.\n",
    "    # Equivalent to a[len(a):] = [x].\n",
    "    fruits.append('grape')\n",
    "    assert fruits == ['orange', 'apple', 'pear', 'banana', 'kiwi', 'apple', 'banana', 'grape']\n",
    "\n",
    "    # list.remove(x)\n",
    "    # Remove the first item from the list whose value is equal to x.\n",
    "    # It raises a ValueError if there is no such item.\n",
    "    fruits.remove('grape')\n",
    "    assert fruits == ['orange', 'apple', 'pear', 'banana', 'kiwi', 'apple', 'banana']\n",
    "\n",
    "    with pytest.raises(Exception):\n",
    "        fruits.remove('not existing element')\n",
    "\n",
    "    # list.insert(i, x)\n",
    "    # Insert an item at a given position. The first argument is the index of the element\n",
    "    # before which to insert, so a.insert(0, x) inserts at the front of the list,\n",
    "    # and a.insert(len(a), x) is equivalent to a.append(x).\n",
    "    fruits.insert(0, 'grape')\n",
    "    assert fruits == ['grape', 'orange', 'apple', 'pear', 'banana', 'kiwi', 'apple', 'banana']\n",
    "\n",
    "    # list.index(x[, start[, end]])\n",
    "    # Return zero-based index in the list of the first item whose value is equal to x.\n",
    "    # Raises a ValueError if there is no such item.\n",
    "    # The optional arguments start and end are interpreted as in the slice notation and are used\n",
    "    # to limit the search to a particular subsequence of the list. The returned index is computed\n",
    "    # relative to the beginning of the full sequence rather than the start argument.\n",
    "    assert fruits.index('grape') == 0\n",
    "    assert fruits.index('orange') == 1\n",
    "    assert fruits.index('banana') == 4\n",
    "    assert fruits.index('banana', 5) == 7  # Find next banana starting a position 5\n",
    "\n",
    "    with pytest.raises(Exception):\n",
    "        fruits.index('not existing element')\n",
    "\n",
    "    # list.count(x)\n",
    "    # Return the number of times x appears in the list.\n",
    "    assert fruits.count('tangerine') == 0\n",
    "    assert fruits.count('banana') == 2\n",
    "\n",
    "    # list.copy()\n",
    "    # Return a shallow copy of the list. Equivalent to a[:].\n",
    "    fruits_copy = fruits.copy()\n",
    "    assert fruits_copy == ['grape', 'orange', 'apple', 'pear', 'banana', 'kiwi', 'apple', 'banana']\n",
    "\n",
    "    # list.reverse()\n",
    "    # Reverse the elements of the list in place.\n",
    "    fruits_copy.reverse()\n",
    "    assert fruits_copy == [\n",
    "        'banana',\n",
    "        'apple',\n",
    "        'kiwi',\n",
    "        'banana',\n",
    "        'pear',\n",
    "        'apple',\n",
    "        'orange',\n",
    "        'grape',\n",
    "    ]\n",
    "\n",
    "    # list.sort(key=None, reverse=False)\n",
    "    # Sort the items of the list in place (the arguments can be used for sort customization,\n",
    "    # see sorted() for their explanation).\n",
    "    fruits_copy.sort()\n",
    "    assert fruits_copy == [\n",
    "        'apple',\n",
    "        'apple',\n",
    "        'banana',\n",
    "        'banana',\n",
    "        'grape',\n",
    "        'kiwi',\n",
    "        'orange',\n",
    "        'pear',\n",
    "    ]\n",
    "\n",
    "    # list.pop([i])\n",
    "    # Remove the item at the given position in the list, and return it. If no index is specified,\n",
    "    # a.pop() removes and returns the last item in the list. (The square brackets around the i in\n",
    "    # the method signature denote that the parameter is optional, not that you should type square\n",
    "    # brackets at that position.)\n",
    "    assert fruits == ['grape', 'orange', 'apple', 'pear', 'banana', 'kiwi', 'apple', 'banana']\n",
    "    assert fruits.pop() == 'banana'\n",
    "    assert fruits == ['grape', 'orange', 'apple', 'pear', 'banana', 'kiwi', 'apple']\n",
    "\n",
    "    # list.clear()\n",
    "    # Remove all items from the list. Equivalent to del a[:].\n",
    "    fruits.clear()\n",
    "    assert fruits == []\n",
    "\n",
    "\n",
    "def test_del_statement():\n",
    "    \"\"\"The del statement\n",
    "    There is a way to remove an item from a list given its index instead of its value: the del\n",
    "    statement. This differs from the pop() method which returns a value. The del statement can also\n",
    "    be used to remove slices from a list or clear the entire list (which we did earlier by\n",
    "    assignment of an empty list to the slice).\n",
    "    \"\"\"\n",
    "\n",
    "    numbers = [-1, 1, 66.25, 333, 333, 1234.5]\n",
    "\n",
    "    del numbers[0]\n",
    "    assert numbers == [1, 66.25, 333, 333, 1234.5]\n",
    "\n",
    "    del numbers[2:4]\n",
    "    assert numbers == [1, 66.25, 1234.5]\n",
    "\n",
    "    del numbers[:]\n",
    "    assert numbers == []\n",
    "\n",
    "    # del can also be used to delete entire variables:\n",
    "    del numbers\n",
    "    with pytest.raises(Exception):\n",
    "        # Referencing the name a hereafter is an error (at least until another\n",
    "        # value is assigned to it).\n",
    "        assert numbers == []  # noqa: F821\n",
    "\n",
    "\n",
    "def test_list_comprehensions():\n",
    "    \"\"\"List Comprehensions.\n",
    "    List comprehensions provide a concise way to create lists. Common applications are to make new\n",
    "    lists where each element is the result of some operations applied to each member of another\n",
    "    sequence or iterable, or to create a subsequence of those elements that satisfy a certain\n",
    "    condition.\n",
    "    A list comprehension consists of brackets containing an expression followed by a for clause,\n",
    "    then zero or more for or if clauses. The result will be a new list resulting from evaluating\n",
    "    the expression in the context of the for and if clauses which follow it.\n",
    "    \"\"\"\n",
    "\n",
    "    # For example, assume we want to create a list of squares, like:\n",
    "    squares = []\n",
    "    for number in range(10):\n",
    "        squares.append(number ** 2)\n",
    "\n",
    "    assert squares == [0, 1, 4, 9, 16, 25, 36, 49, 64, 81]\n",
    "\n",
    "    # Note that this creates (or overwrites) a variable named \"number\" that still exists after\n",
    "    # the loop completes. We can calculate the list of squares without any side effects using:\n",
    "    squares = list(map(lambda x: x ** 2, range(10)))\n",
    "    assert squares == [0, 1, 4, 9, 16, 25, 36, 49, 64, 81]\n",
    "\n",
    "    # or, equivalently (which is more concise and readable):\n",
    "    squares = [x ** 2 for x in range(10)]\n",
    "    assert squares == [0, 1, 4, 9, 16, 25, 36, 49, 64, 81]\n",
    "\n",
    "    # For example, this listcomp combines the elements of two lists if they are not equal.\n",
    "    combinations = [(x, y) for x in [1, 2, 3] for y in [3, 1, 4] if x != y]\n",
    "    assert combinations == [(1, 3), (1, 4), (2, 3), (2, 1), (2, 4), (3, 1), (3, 4)]\n",
    "\n",
    "    # and it’s equivalent to:\n",
    "    combinations = []\n",
    "    for first_number in [1, 2, 3]:\n",
    "        for second_number in [3, 1, 4]:\n",
    "            if first_number != second_number:\n",
    "                combinations.append((first_number, second_number))\n",
    "\n",
    "    assert combinations == [(1, 3), (1, 4), (2, 3), (2, 1), (2, 4), (3, 1), (3, 4)]\n",
    "\n",
    "    # Note how the order of the for and if statements is the same in both these snippets.\n",
    "\n",
    "    # If the expression is a tuple (e.g. the (x, y) in the previous example),\n",
    "    # it must be parenthesized.\n",
    "\n",
    "    # Let's see some more examples:\n",
    "\n",
    "    vector = [-4, -2, 0, 2, 4]\n",
    "\n",
    "    # Create a new list with the values doubled.\n",
    "    doubled_vector = [x * 2 for x in vector]\n",
    "    assert doubled_vector == [-8, -4, 0, 4, 8]\n",
    "\n",
    "    # Filter the list to exclude negative numbers.\n",
    "    positive_vector = [x for x in vector if x >= 0]\n",
    "    assert positive_vector == [0, 2, 4]\n",
    "\n",
    "    # Apply a function to all the elements.\n",
    "    abs_vector = [abs(x) for x in vector]\n",
    "    assert abs_vector == [4, 2, 0, 2, 4]\n",
    "\n",
    "    # Call a method on each element.\n",
    "    fresh_fruit = ['  banana', '  loganberry ', 'passion fruit  ']\n",
    "    clean_fresh_fruit = [weapon.strip() for weapon in fresh_fruit]\n",
    "    assert clean_fresh_fruit == ['banana', 'loganberry', 'passion fruit']\n",
    "\n",
    "    # Create a list of 2-tuples like (number, square).\n",
    "    square_tuples = [(x, x ** 2) for x in range(6)]\n",
    "    assert square_tuples == [(0, 0), (1, 1), (2, 4), (3, 9), (4, 16), (5, 25)]\n",
    "\n",
    "    # Flatten a list using a listcomp with two 'for'.\n",
    "    vector = [[1, 2, 3], [4, 5, 6], [7, 8, 9]]\n",
    "    flatten_vector = [num for elem in vector for num in elem]\n",
    "    assert flatten_vector == [1, 2, 3, 4, 5, 6, 7, 8, 9]\n",
    "\n",
    "\n",
    "def test_nested_list_comprehensions():\n",
    "    \"\"\"Nested List Comprehensions\n",
    "    The initial expression in a list comprehension can be any arbitrary expression, including\n",
    "    another list comprehension.\n",
    "    \"\"\"\n",
    "\n",
    "    # Consider the following example of a 3x4 matrix implemented as a list of 3 lists of length 4:\n",
    "    matrix = [\n",
    "        [1, 2, 3, 4],\n",
    "        [5, 6, 7, 8],\n",
    "        [9, 10, 11, 12],\n",
    "    ]\n",
    "\n",
    "    # The following list comprehension will transpose rows and columns:\n",
    "    transposed_matrix = [[row[i] for row in matrix] for i in range(4)]\n",
    "    assert transposed_matrix == [\n",
    "        [1, 5, 9],\n",
    "        [2, 6, 10],\n",
    "        [3, 7, 11],\n",
    "        [4, 8, 12],\n",
    "    ]\n",
    "\n",
    "    # As we saw in the previous section, the nested listcomp is evaluated in the context of the\n",
    "    # for that follows it, so this example is equivalent to:\n",
    "    transposed = []\n",
    "    for i in range(4):\n",
    "        transposed.append([row[i] for row in matrix])\n",
    "\n",
    "    assert transposed == [\n",
    "        [1, 5, 9],\n",
    "        [2, 6, 10],\n",
    "        [3, 7, 11],\n",
    "        [4, 8, 12],\n",
    "    ]\n",
    "\n",
    "    # which, in turn, is the same as:\n",
    "    transposed = []\n",
    "    for i in range(4):\n",
    "        # the following 3 lines implement the nested listcomp\n",
    "        transposed_row = []\n",
    "        for row in matrix:\n",
    "            transposed_row.append(row[i])\n",
    "        transposed.append(transposed_row)\n",
    "\n",
    "    assert transposed == [\n",
    "        [1, 5, 9],\n",
    "        [2, 6, 10],\n",
    "        [3, 7, 11],\n",
    "        [4, 8, 12],\n",
    "    ]\n",
    "\n",
    "    # In the real world, you should prefer built-in functions to complex flow statements.\n",
    "    # The zip() function would do a great job for this use case:\n",
    "    assert list(zip(*matrix)) == [\n",
    "        (1, 5, 9),\n",
    "        (2, 6, 10),\n",
    "        (3, 7, 11),\n",
    "        (4, 8, 12),\n",
    "    ]"
   ]
  },
  {
   "cell_type": "code",
   "execution_count": 13,
   "metadata": {},
   "outputs": [
    {
     "data": {
      "text/plain": [
       "3"
      ]
     },
     "execution_count": 13,
     "metadata": {},
     "output_type": "execute_result"
    }
   ],
   "source": [
    "a = [1, 2, 3]\n",
    "a[-1]"
   ]
  },
  {
   "cell_type": "markdown",
   "metadata": {
    "slideshow": {
     "slide_type": "subslide"
    }
   },
   "source": [
    "## 数据类型\n",
    "\n",
    "### 字典 Dictionary\n",
    "\n",
    "使用花括号{}包围的“键:值”对，即键和值之间使用冒号\":\"分隔，每个键值对是字典的一个元素，中间使用逗号\",\"隔开。\n",
    "\n",
    "```Python\n",
    "d = {key1 : value1, key2 : value2}\n",
    "```"
   ]
  },
  {
   "cell_type": "code",
   "execution_count": null,
   "metadata": {},
   "outputs": [],
   "source": [
    "\"\"\"Dictionaries.\n",
    "@see: https://docs.python.org/3/tutorial/datastructures.html#dictionaries\n",
    "@see: https://www.w3schools.com/python/python_dictionaries.asp\n",
    "A dictionary is a collection which is unordered, changeable and indexed. In Python dictionaries are\n",
    "written with curly brackets, and they have keys and values.\n",
    "Dictionaries are sometimes found in other languages as “associative memories” or “associative\n",
    "arrays”. Unlike sequences, which are indexed by a range of numbers, dictionaries are indexed by\n",
    "keys, which can be any immutable type; strings and numbers can always be keys. Tuples can be used\n",
    "as keys if they contain only strings, numbers, or tuples; if a tuple contains any mutable object\n",
    "either directly or indirectly, it cannot be used as a key. You can’t use lists as keys, since\n",
    "lists can be modified in place using index assignments, slice assignments, or methods like append()\n",
    "and extend().\n",
    "It is best to think of a dictionary as a set of key: value pairs, with the requirement that the\n",
    "keys are unique (within one dictionary). A pair of braces creates an empty dictionary: {}.\n",
    "Placing a comma-separated list of key:value pairs within the braces adds initial key:value pairs\n",
    "to the dictionary; this is also the way dictionaries are written on output.\n",
    "\"\"\"\n",
    "\n",
    "\n",
    "def test_dictionary():\n",
    "    \"\"\"Dictionary\"\"\"\n",
    "\n",
    "    fruits_dictionary = {\n",
    "        'cherry': 'red',\n",
    "        'apple': 'green',\n",
    "        'banana': 'yellow',\n",
    "    }\n",
    "\n",
    "    assert isinstance(fruits_dictionary, dict)\n",
    "\n",
    "    # You may access set elements by keys.\n",
    "    assert fruits_dictionary['apple'] == 'green'\n",
    "    assert fruits_dictionary['banana'] == 'yellow'\n",
    "    assert fruits_dictionary['cherry'] == 'red'\n",
    "\n",
    "    # To check whether a single key is in the dictionary, use the in keyword.\n",
    "    assert 'apple' in fruits_dictionary\n",
    "    assert 'pineapple' not in fruits_dictionary\n",
    "\n",
    "    # Change the apple color to \"red\".\n",
    "    fruits_dictionary['apple'] = 'red'\n",
    "\n",
    "    # Add new key/value pair to the dictionary\n",
    "    fruits_dictionary['pineapple'] = 'yellow'\n",
    "    assert fruits_dictionary['pineapple'] == 'yellow'\n",
    "\n",
    "    # Performing list(d) on a dictionary returns a list of all the keys used in the dictionary,\n",
    "    # in insertion order (if you want it sorted, just use sorted(d) instead).\n",
    "    assert list(fruits_dictionary) == ['cherry', 'apple', 'banana', 'pineapple']\n",
    "    assert sorted(fruits_dictionary) == ['apple', 'banana', 'cherry', 'pineapple']\n",
    "\n",
    "    # It is also possible to delete a key:value pair with del.\n",
    "    del fruits_dictionary['pineapple']\n",
    "    assert list(fruits_dictionary) == ['cherry', 'apple', 'banana']\n",
    "\n",
    "    # The dict() constructor builds dictionaries directly from sequences of key-value pairs.\n",
    "    dictionary_via_constructor = dict([('sape', 4139), ('guido', 4127), ('jack', 4098)])\n",
    "\n",
    "    assert dictionary_via_constructor['sape'] == 4139\n",
    "    assert dictionary_via_constructor['guido'] == 4127\n",
    "    assert dictionary_via_constructor['jack'] == 4098\n",
    "\n",
    "    # In addition, dict comprehensions can be used to create dictionaries from arbitrary key\n",
    "    # and value expressions:\n",
    "    dictionary_via_expression = {x: x**2 for x in (2, 4, 6)}\n",
    "    assert dictionary_via_expression[2] == 4\n",
    "    assert dictionary_via_expression[4] == 16\n",
    "    assert dictionary_via_expression[6] == 36\n",
    "\n",
    "    # When the keys are simple strings, it is sometimes easier to specify pairs using\n",
    "    # keyword arguments.\n",
    "    dictionary_for_string_keys = dict(sape=4139, guido=4127, jack=4098)\n",
    "    assert dictionary_for_string_keys['sape'] == 4139\n",
    "    assert dictionary_for_string_keys['guido'] == 4127\n",
    "    assert dictionary_for_string_keys['jack'] == 4098"
   ]
  },
  {
   "cell_type": "markdown",
   "metadata": {
    "slideshow": {
     "slide_type": "subslide"
    }
   },
   "source": [
    "## 数据类型\n",
    "### 元组 Tuple\n",
    "Python的元组与列表类似，不同之处在于元组的元素不能修改。\n",
    "\n",
    "元组使用小括号\"()\"，列表使用方括号\"[]\"。\n",
    "\n",
    "元组创建很简单，只需要在括号中添加元素，并使用逗号隔开即可。"
   ]
  },
  {
   "cell_type": "code",
   "execution_count": 4,
   "metadata": {
    "slideshow": {
     "slide_type": "-"
    }
   },
   "outputs": [],
   "source": [
    "\"\"\"Tuples.\n",
    "@see: https://www.w3schools.com/python/python_tuples.asp\n",
    "@see: https://docs.python.org/3/tutorial/datastructures.html#tuples-and-sequences\n",
    "A tuple is a collection which is ordered and unchangeable. In Python tuples are written with\n",
    "round brackets.\n",
    "The Tuples have following properties:\n",
    "- You cannot change values in a tuple.\n",
    "- You cannot remove items in a tuple.\n",
    "\"\"\"\n",
    "\n",
    "import pytest\n",
    "\n",
    "\n",
    "def test_tuples():\n",
    "    \"\"\"Tuples\"\"\"\n",
    "    fruits_tuple = (\"apple\", \"banana\", \"cherry\")\n",
    "\n",
    "    assert isinstance(fruits_tuple, tuple)\n",
    "    assert fruits_tuple[0] == \"apple\"\n",
    "    assert fruits_tuple[1] == \"banana\"\n",
    "    assert fruits_tuple[2] == \"cherry\"\n",
    "\n",
    "    # You cannot change values in a tuple.\n",
    "    with pytest.raises(Exception):\n",
    "        # pylint: disable=unsupported-assignment-operation\n",
    "        fruits_tuple[0] = \"pineapple\"\n",
    "\n",
    "    # It is also possible to use the tuple() constructor to make a tuple (note the double\n",
    "    # round-brackets).\n",
    "    # The len() function returns the length of the tuple.\n",
    "    fruits_tuple_via_constructor = tuple((\"apple\", \"banana\", \"cherry\"))\n",
    "\n",
    "    assert isinstance(fruits_tuple_via_constructor, tuple)\n",
    "    assert len(fruits_tuple_via_constructor) == 3\n",
    "\n",
    "    # It is also possible to omit brackets when initializing tuples.\n",
    "    another_tuple = 12345, 54321, 'hello!'\n",
    "    assert another_tuple == (12345, 54321, 'hello!')\n",
    "\n",
    "    # Tuples may be nested:\n",
    "    nested_tuple = another_tuple, (1, 2, 3, 4, 5)\n",
    "    assert nested_tuple == ((12345, 54321, 'hello!'), (1, 2, 3, 4, 5))\n",
    "\n",
    "    # As you see, on output tuples are always enclosed in parentheses, so that nested tuples are\n",
    "    # interpreted correctly; they may be input with or without surrounding parentheses, although\n",
    "    # often parentheses are necessary anyway (if the tuple is part of a larger expression). It is\n",
    "    # not possible to assign to the individual items of a tuple, however it is possible to create\n",
    "    # tuples which contain mutable objects, such as lists.\n",
    "\n",
    "    # A special problem is the construction of tuples containing 0 or 1 items: the syntax has some\n",
    "    # extra quirks to accommodate these. Empty tuples are constructed by an empty pair of\n",
    "    # parentheses; a tuple with one item is constructed by following a value with a comma (it is\n",
    "    # not sufficient to enclose a single value in parentheses). Ugly, but effective. For example:\n",
    "    empty_tuple = ()\n",
    "    # pylint: disable=len-as-condition\n",
    "    assert len(empty_tuple) == 0\n",
    "\n",
    "    # pylint: disable=trailing-comma-tuple\n",
    "    singleton_tuple = 'hello',  # <-- note trailing comma\n",
    "    assert len(singleton_tuple) == 1\n",
    "    assert singleton_tuple == ('hello',)\n",
    "\n",
    "    # The following example is called tuple packing:\n",
    "    packed_tuple = 12345, 54321, 'hello!'\n",
    "\n",
    "    # The reverse operation is also possible.\n",
    "    first_tuple_number, second_tuple_number, third_tuple_string = packed_tuple\n",
    "    assert first_tuple_number == 12345\n",
    "    assert second_tuple_number == 54321\n",
    "    assert third_tuple_string == 'hello!'\n",
    "\n",
    "    # This is called, appropriately enough, sequence unpacking and works for any sequence on the\n",
    "    # right-hand side. Sequence unpacking requires that there are as many variables on the left\n",
    "    # side of the equals sign as there are elements in the sequence. Note that multiple assignment\n",
    "    # is really just a combination of tuple packing and sequence unpacking.\n",
    "\n",
    "    # Swapping using tuples.\n",
    "    # Data can be swapped from one variable to another in python using\n",
    "    # tuples. This eliminates the need to use a 'temp' variable.\n",
    "    first_number = 123\n",
    "    second_number = 456\n",
    "    first_number, second_number = second_number, first_number\n",
    "\n",
    "    assert first_number == 456\n",
    "    assert second_number == 123\n",
    "    \n",
    "    tup1 = (12, 34.56)\n",
    "    tup2 = ('abc', 'xyz')\n",
    "    tup3 = tup1 + tup2\n",
    "    assert tup3 == tup1+tup2"
   ]
  },
  {
   "cell_type": "markdown",
   "metadata": {
    "slideshow": {
     "slide_type": "subslide"
    }
   },
   "source": [
    "## 数据类型\n",
    "\n",
    "### 集合 Set\n",
    "\n",
    "集合（set）是一个无序的不重复元素序列。\n",
    "\n",
    "可以使用大括号 { } 或者 set() 函数创建集合，注意：创建一个空集合必须用 set() 而不是 { }，因为 { } 是用来创建一个空字典。\n",
    "\n",
    "创建格式：\n",
    "\n",
    "parame = {value01,value02,...}\n",
    "\n",
    "或者\n",
    "\n",
    "set(value)\n",
    "\n",
    "支持集合运算：交、并、差"
   ]
  },
  {
   "cell_type": "code",
   "execution_count": null,
   "metadata": {},
   "outputs": [],
   "source": [
    "\"\"\"Sets.\n",
    "@see: https://www.w3schools.com/python/python_sets.asp\n",
    "@see: https://docs.python.org/3.7/tutorial/datastructures.html#sets\n",
    "A set is a collection which is unordered and unindexed.\n",
    "In Python sets are written with curly brackets.\n",
    "Set objects also support mathematical operations like union, intersection, difference, and\n",
    "symmetric difference.\n",
    "\"\"\"\n",
    "\n",
    "\n",
    "def test_sets():\n",
    "    \"\"\"Sets\"\"\"\n",
    "    fruits_set = {\"apple\", \"banana\", \"cherry\"}\n",
    "\n",
    "    assert isinstance(fruits_set, set)\n",
    "\n",
    "    # It is also possible to use the set() constructor to make a set.\n",
    "    # Note the double round-brackets\n",
    "    fruits_set_via_constructor = set((\"apple\", \"banana\", \"cherry\"))\n",
    "\n",
    "    assert isinstance(fruits_set_via_constructor, set)\n",
    "\n",
    "\n",
    "def test_set_methods():\n",
    "    \"\"\"Set methods\"\"\"\n",
    "\n",
    "    fruits_set = {\"apple\", \"banana\", \"cherry\"}\n",
    "\n",
    "    # You may check if the item is in set by using \"in\" statement\n",
    "    assert \"apple\" in fruits_set\n",
    "    assert \"pineapple\" not in fruits_set\n",
    "\n",
    "    # Use the len() method to return the number of items.\n",
    "    assert len(fruits_set) == 3\n",
    "\n",
    "    # You can use the add() object method to add an item.\n",
    "    fruits_set.add(\"pineapple\")\n",
    "    assert \"pineapple\" in fruits_set\n",
    "    assert len(fruits_set) == 4\n",
    "\n",
    "    # Use remove() method to remove an item.\n",
    "    fruits_set.remove(\"pineapple\")\n",
    "    assert \"pineapple\" not in fruits_set\n",
    "    assert len(fruits_set) == 3\n",
    "\n",
    "    # Demonstrate set operations on unique letters from two word:\n",
    "    first_char_set = set('abracadabra')\n",
    "    second_char_set = set('alacazam')\n",
    "\n",
    "    assert first_char_set == {'a', 'r', 'b', 'c', 'd'}  # unique letters in first word\n",
    "    assert second_char_set == {'a', 'l', 'c', 'z', 'm'}  # unique letters in second word\n",
    "\n",
    "    # Letters in first word but not in second.\n",
    "    assert first_char_set - second_char_set == {'r', 'b', 'd'}\n",
    "\n",
    "    # Letters in first word or second word or both.\n",
    "    assert first_char_set | second_char_set == {'a', 'c', 'r', 'd', 'b', 'm', 'z', 'l'}\n",
    "\n",
    "    # Common letters in both words.\n",
    "    assert first_char_set & second_char_set == {'a', 'c'}\n",
    "\n",
    "    # Letters in first or second word but not both.\n",
    "    assert first_char_set ^ second_char_set == {'r', 'd', 'b', 'm', 'z', 'l'}\n",
    "\n",
    "    # Similarly to list comprehensions, set comprehensions are also supported:\n",
    "    word = {char for char in 'abracadabra' if char not in 'abc'}\n",
    "    assert word == {'r', 'd'}"
   ]
  },
  {
   "cell_type": "markdown",
   "metadata": {
    "slideshow": {
     "slide_type": "slide"
    }
   },
   "source": [
    "## 编写一个猜数字的游戏\n",
    "\n",
    "功能说明：\n",
    "\n",
    "1. 游戏开始系统从0～100之前随机取一个整数\n",
    "2. 用户通过输入框输入一个猜测的整数\n",
    "3. 游戏对输入的整数与开始随机设置的整数进行对比，并给出提示信息\n",
    "    - 如果给出的数小，则提示猜的太小了\n",
    "    - 如果给出的数大，则提示猜的太大了\n",
    "4. 如果两个数相等，则程序结束，显示猜了多少次才成功的。"
   ]
  },
  {
   "cell_type": "markdown",
   "metadata": {
    "slideshow": {
     "slide_type": "subslide"
    }
   },
   "source": [
    "### 问题思考\n",
    "1. 估计一下最快需要多少次能够猜对？\n",
    "2. 能否想出一种比较快的猜数字的策略，使得猜测次数比较少？"
   ]
  },
  {
   "cell_type": "code",
   "execution_count": 3,
   "metadata": {
    "slideshow": {
     "slide_type": "subslide"
    }
   },
   "outputs": [
    {
     "name": "stdout",
     "output_type": "stream",
     "text": [
      "请输入0～100之间的数字50\n",
      "太小了\n",
      "第1次尝试！\n",
      "请输入0～100之间的数字75\n",
      "太大了\n",
      "第2次尝试！\n",
      "请输入0～100之间的数字62\n",
      "太小了\n",
      "第3次尝试！\n",
      "请输入0～100之间的数字69\n",
      "太小了\n",
      "第4次尝试！\n",
      "请输入0～100之间的数字73\n",
      "太大了\n",
      "第5次尝试！\n",
      "请输入0～100之间的数字71\n",
      "太大了\n",
      "第6次尝试！\n",
      "请输入0～100之间的数字70\n",
      "您试了7次就成功了！\n"
     ]
    }
   ],
   "source": [
    "from random import randint\n",
    "\n",
    "target = randint(0, 100) # 在[1,100]之间随机选择一个整数，有可能是0，也有可能是100，也有可能是其间的任意整数。\n",
    "\n",
    "guess = int(input(\"请输入0～100之间的数字\"))\n",
    "try_time = 1\n",
    "found = False\n",
    "\n",
    "while !found:\n",
    "    if guess == target:\n",
    "        #found = True\n",
    "        break\n",
    "    if guess > target:\n",
    "        print(\"太大了\")\n",
    "    if guess < target:\n",
    "        print(\"太小了\")\n",
    "    print(f\"第{try_time}次尝试！\")\n",
    "    guess = int(input(\"请输入0～100之间的数字\")) \n",
    "    try_time += 1\n",
    "    \n",
    "'''while guess != target:\n",
    "    if guess > target:\n",
    "        print(\"太大了\")\n",
    "    if guess < target:\n",
    "        print(\"太小了\")\n",
    "    print(f\"第{try_time}次尝试！\")\n",
    "    guess = int(input(\"请输入0～100之间的数字\")) \n",
    "    try_time += 1'''\n",
    "print(f\"您试了{try_time}次就成功了！\")"
   ]
  },
  {
   "cell_type": "markdown",
   "metadata": {
    "slideshow": {
     "slide_type": "subslide"
    }
   },
   "source": [
    "### 折半查找\n",
    "在一个排好序的列表(共有$N$个元素)中查找一个值是否在其中，最快的方法是**折半查找**。所谓折半指的是每次查询都能去掉所有数据的一半，这样总共需要的查询次数为$log_2 N$。\n",
    "\n",
    "以上面猜数字游戏为例：\n",
    "1. 第1次猜测的数字为50，如果没有猜中，则该数字或者大于50或者小于50，因此整个列表的元素剩余一半($\\frac{1}{2}$)\n",
    "2. 第2次按照相同的原则，猜测其中中间位置的元素，如果仍没猜中，则列表剩余的元素再次被去掉一半，即剩余的元素数为原来元素数的$\\frac{1}{2^2}=\\frac{1}{4}$\n",
    "3. 第3次猜测之后，剩下的元素数量为原来的$\\frac{1}{2^3}=\\frac{1}{8}$\n",
    "4. 第4次猜测之后，剩下的元素数量为原来的$\\frac{1}{2^4}=\\frac{1}{16}$\n",
    "5. 第5次猜测之后，剩下的元素数量为原来的$\\frac{1}{2^5}=\\frac{1}{32}$\n",
    "6. 第6次猜测之后，剩下的元素数量为原来的$\\frac{1}{2^6}=\\frac{1}{64}$\n",
    "7. 第7次猜测之后，剩下的元素数量为原来的$\\frac{1}{2^7}=\\frac{1}{128}$"
   ]
  }
 ],
 "metadata": {
  "celltoolbar": "幻灯片",
  "kernelspec": {
   "display_name": "Python 3 (ipykernel)",
   "language": "python",
   "name": "python3"
  },
  "language_info": {
   "codemirror_mode": {
    "name": "ipython",
    "version": 3
   },
   "file_extension": ".py",
   "mimetype": "text/x-python",
   "name": "python",
   "nbconvert_exporter": "python",
   "pygments_lexer": "ipython3",
   "version": "3.11.10"
  },
  "rise": {
   "footer": "<h3>陕西师范大学历史文化学院</h3>",
   "header": "<h1>Python语言基础---历史学编程（Python）2021秋</h1>"
  },
  "varInspector": {
   "cols": {
    "lenName": 16,
    "lenType": 16,
    "lenVar": 40
   },
   "kernels_config": {
    "python": {
     "delete_cmd_postfix": "",
     "delete_cmd_prefix": "del ",
     "library": "var_list.py",
     "varRefreshCmd": "print(var_dic_list())"
    },
    "r": {
     "delete_cmd_postfix": ") ",
     "delete_cmd_prefix": "rm(",
     "library": "var_list.r",
     "varRefreshCmd": "cat(var_dic_list()) "
    }
   },
   "types_to_exclude": [
    "module",
    "function",
    "builtin_function_or_method",
    "instance",
    "_Feature"
   ],
   "window_display": false
  }
 },
 "nbformat": 4,
 "nbformat_minor": 4
}
