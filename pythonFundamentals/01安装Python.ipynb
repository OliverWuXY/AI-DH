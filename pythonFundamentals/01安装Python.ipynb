{
 "cells": [
  {
   "cell_type": "markdown",
   "metadata": {},
   "source": [
    "# 安装 Python & Jupyter Notebook"
   ]
  },
  {
   "cell_type": "markdown",
   "metadata": {},
   "source": [
    "我们可以通过安装[Anaconda](https://docs.anaconda.com/anaconda/)来安装Python,[Anaconda](https://docs.anaconda.com/anaconda/)包括基础的Python库和预先安装了超过[250 常用的包](https://docs.anaconda.com/anaconda/packages/py3.8_osx-64/). 这些包也叫做库. Anaconda 包括包，比如用于数据分析的 *pandas*, 数据可视化的*matplotlib* 等.  \n"
   ]
  },
  {
   "cell_type": "markdown",
   "metadata": {},
   "source": [
    "## Step 1 - 安装 Anaconda\n",
    "\n",
    "到 [Anaconda installation page](https://docs.anaconda.com/anaconda/install/), 找到你的操作系统, 按指令操作即可.\n",
    "\n",
    "## Step 2 - 找到和打开Anaconda Navigator\n"
   ]
  },
  {
   "cell_type": "markdown",
   "metadata": {},
   "source": [
    "<img src=\"../img/installation/navigator-search.png\"  >\n",
    "\n"
   ]
  },
  {
   "cell_type": "markdown",
   "metadata": {},
   "source": [
    "## Step 3 - 开启 Jupyter notebook\n",
    "\n",
    "Anaconda Navigator打开后, 你可以看到主界面, 找到Jupyter notebook, 在其下方点击 \"Launch\" 按钮."
   ]
  },
  {
   "cell_type": "markdown",
   "metadata": {},
   "source": [
    "<img src=\"../img/installation/navigator-main.png\" width=100%>\n",
    "<img src=\"../img/anaconda-notebook.png\" width=30%>"
   ]
  },
  {
   "cell_type": "markdown",
   "metadata": {},
   "source": [
    "## Step 3 (可选，个人建议) - 启动 Jupyter Notebook\n",
    "\n",
    "你也可以通终端或者Powershell来启动Jupyter Notebook. 对于初学者，可以有点麻烦。一般情况下，进入终端后，通过cd命令，可以切换到你的工作目录，这样方面操作。"
   ]
  },
  {
   "cell_type": "markdown",
   "metadata": {
    "tags": [
     "command_line"
    ]
   },
   "source": [
    "jupyter Notebook"
   ]
  },
  {
   "cell_type": "code",
   "execution_count": null,
   "metadata": {},
   "outputs": [],
   "source": []
  }
 ],
 "metadata": {
  "kernelspec": {
   "display_name": "Python 3 (ipykernel)",
   "language": "python",
   "name": "python3"
  },
  "language_info": {
   "codemirror_mode": {
    "name": "ipython",
    "version": 3
   },
   "file_extension": ".py",
   "mimetype": "text/x-python",
   "name": "python",
   "nbconvert_exporter": "python",
   "pygments_lexer": "ipython3",
   "version": "3.11.10"
  },
  "toc-autonumbering": false,
  "toc-showcode": true,
  "toc-showmarkdowntxt": false,
  "toc-showtags": true
 },
 "nbformat": 4,
 "nbformat_minor": 4
}
